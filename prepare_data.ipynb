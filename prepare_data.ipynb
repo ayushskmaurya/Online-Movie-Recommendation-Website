{
 "cells": [
  {
   "cell_type": "code",
   "execution_count": 1,
   "id": "greatest-dealing",
   "metadata": {},
   "outputs": [],
   "source": [
    "import pandas as pd"
   ]
  },
  {
   "cell_type": "code",
   "execution_count": 2,
   "id": "prime-circuit",
   "metadata": {},
   "outputs": [],
   "source": [
    "# Reading bollywood movie datasets from year 1950 to 2019.\n",
    "bollywood = pd.concat([\n",
    "    pd.read_csv('datasets/bollywood_1950-1989.csv'),\n",
    "    pd.read_csv('datasets/bollywood_1990-2009.csv'),\n",
    "    pd.read_csv('datasets/bollywood_2010-2019.csv')\n",
    "])\n",
    "\n",
    "bollywood_meta = pd.concat([\n",
    "    pd.read_csv('datasets/bollywood_meta_1950-1989.csv'),\n",
    "    pd.read_csv('datasets/bollywood_meta_1990-2009.csv'),\n",
    "    pd.read_csv('datasets/bollywood_meta_2010-2019.csv')\n",
    "])\n",
    "\n",
    "bollywood_ratings = pd.concat([\n",
    "    pd.read_csv('datasets/bollywood_ratings_1950-1989.csv'),\n",
    "    pd.read_csv('datasets/bollywood_ratings_1990-2009.csv'),\n",
    "    pd.read_csv('datasets/bollywood_ratings_2010-2019.csv')\n",
    "])\n",
    "\n",
    "bollywood_text = pd.concat([\n",
    "    pd.read_csv('datasets/bollywood_text_1950-1989.csv'),\n",
    "    pd.read_csv('datasets/bollywood_text_1990-2009.csv'),\n",
    "    pd.read_csv('datasets/bollywood_text_2010-2019.csv')\n",
    "])"
   ]
  },
  {
   "cell_type": "code",
   "execution_count": 3,
   "id": "willing-disorder",
   "metadata": {
    "scrolled": true
   },
   "outputs": [],
   "source": [
    "# Merging datasets to form one dataframe.\n",
    "movies_data = pd.merge(bollywood, bollywood_meta, on='imdb_id', how='inner')\n",
    "movies_data = pd.merge(movies_data, bollywood_ratings, on='imdb_id', how='inner')\n",
    "movies_data = pd.merge(movies_data, bollywood_text, on='imdb_id', how='inner')"
   ]
  },
  {
   "cell_type": "code",
   "execution_count": 4,
   "id": "young-romania",
   "metadata": {},
   "outputs": [],
   "source": [
    "# Dropping all the duplicate records.\n",
    "movies_data.drop_duplicates(subset=\"title_x\", keep = 'first', inplace = True)"
   ]
  },
  {
   "cell_type": "code",
   "execution_count": 5,
   "id": "proved-possession",
   "metadata": {
    "scrolled": true
   },
   "outputs": [],
   "source": [
    "# Preparing dataframe with necessary columns required for info about movies.\n",
    "movie_details = pd.DataFrame({\n",
    "    'title': movies_data['title_x'],\n",
    "    'genres': movies_data['genres'],\n",
    "    'actors': movies_data['actors'],\n",
    "    'release_date': movies_data['release_date'],\n",
    "    'imdb_rating': movies_data['imdb_rating'],\n",
    "    'summary': movies_data['summary'],\n",
    "    'poster_path': movies_data['poster_path'],\n",
    "    'wiki_link': movies_data['wiki_link']\n",
    "})"
   ]
  },
  {
   "cell_type": "code",
   "execution_count": 6,
   "id": "similar-kazakhstan",
   "metadata": {
    "scrolled": false
   },
   "outputs": [],
   "source": [
    "# Dropping the records which have null values.\n",
    "movie_details = movie_details.dropna(axis=0, how='any')"
   ]
  },
  {
   "cell_type": "code",
   "execution_count": 7,
   "id": "ambient-orbit",
   "metadata": {},
   "outputs": [
    {
     "data": {
      "text/plain": [
       "(2669, 8)"
      ]
     },
     "execution_count": 7,
     "metadata": {},
     "output_type": "execute_result"
    }
   ],
   "source": [
    "movie_details.shape"
   ]
  },
  {
   "cell_type": "code",
   "execution_count": 8,
   "id": "worse-syntax",
   "metadata": {
    "scrolled": true
   },
   "outputs": [
    {
     "data": {
      "text/html": [
       "<div>\n",
       "<style scoped>\n",
       "    .dataframe tbody tr th:only-of-type {\n",
       "        vertical-align: middle;\n",
       "    }\n",
       "\n",
       "    .dataframe tbody tr th {\n",
       "        vertical-align: top;\n",
       "    }\n",
       "\n",
       "    .dataframe thead th {\n",
       "        text-align: right;\n",
       "    }\n",
       "</style>\n",
       "<table border=\"1\" class=\"dataframe\">\n",
       "  <thead>\n",
       "    <tr style=\"text-align: right;\">\n",
       "      <th></th>\n",
       "      <th>title</th>\n",
       "      <th>genres</th>\n",
       "      <th>actors</th>\n",
       "      <th>release_date</th>\n",
       "      <th>imdb_rating</th>\n",
       "      <th>summary</th>\n",
       "      <th>poster_path</th>\n",
       "      <th>wiki_link</th>\n",
       "    </tr>\n",
       "  </thead>\n",
       "  <tbody>\n",
       "    <tr>\n",
       "      <th>16</th>\n",
       "      <td>Ram Lakhan</td>\n",
       "      <td>Action|Drama|Musical</td>\n",
       "      <td>Rakhee Gulzar|Jackie Shroff|Anil Kapoor|Dimple...</td>\n",
       "      <td>27 January 1989 (India)</td>\n",
       "      <td>6.8</td>\n",
       "      <td>Sharda (Raakhee) vows vengeance when her husba...</td>\n",
       "      <td>https://upload.wikimedia.org/wikipedia/en/thum...</td>\n",
       "      <td>https://en.wikipedia.org/wiki/Ram_Lakhan</td>\n",
       "    </tr>\n",
       "    <tr>\n",
       "      <th>18</th>\n",
       "      <td>Tridev</td>\n",
       "      <td>Action|Crime|Drama</td>\n",
       "      <td>Naseeruddin Shah|Sunny Deol|Jackie Shroff|Madh...</td>\n",
       "      <td>7 July 1989 (India)</td>\n",
       "      <td>6.3</td>\n",
       "      <td>A honest but disgraced Police Inspector's atte...</td>\n",
       "      <td>https://upload.wikimedia.org/wikipedia/en/thum...</td>\n",
       "      <td>https://en.wikipedia.org/wiki/Tridev</td>\n",
       "    </tr>\n",
       "    <tr>\n",
       "      <th>19</th>\n",
       "      <td>ChaalBaaz</td>\n",
       "      <td>Action|Comedy|Drama</td>\n",
       "      <td>Sridevi|Sunny Deol|Rajinikanth|Anupam Kher|Sha...</td>\n",
       "      <td>8 December 1989 (India)</td>\n",
       "      <td>6.7</td>\n",
       "      <td>Twins separated at infancy are brought up diff...</td>\n",
       "      <td>https://upload.wikimedia.org/wikipedia/en/thum...</td>\n",
       "      <td>https://en.wikipedia.org/wiki/ChaalBaaz</td>\n",
       "    </tr>\n",
       "    <tr>\n",
       "      <th>20</th>\n",
       "      <td>Batwara</td>\n",
       "      <td>Action|Drama</td>\n",
       "      <td>Dharmendra|Vinod Khanna|Dimple Kapadia|Poonam ...</td>\n",
       "      <td>14 July 1989 (India)</td>\n",
       "      <td>6.5</td>\n",
       "      <td>In India circa after the British Rule  there i...</td>\n",
       "      <td>https://upload.wikimedia.org/wikipedia/en/thum...</td>\n",
       "      <td>https://en.wikipedia.org/wiki/Batwara</td>\n",
       "    </tr>\n",
       "    <tr>\n",
       "      <th>23</th>\n",
       "      <td>Bhrashtachar</td>\n",
       "      <td>Action|Crime|Drama</td>\n",
       "      <td>Rekha|Mithun Chakraborty|Anupam Kher|Raza Mura...</td>\n",
       "      <td>22 November 1989 (India)</td>\n",
       "      <td>4.7</td>\n",
       "      <td>Bhrastachar tells the story of a disparate gro...</td>\n",
       "      <td>https://upload.wikimedia.org/wikipedia/en/thum...</td>\n",
       "      <td>https://en.wikipedia.org/wiki/Bhrashtachar</td>\n",
       "    </tr>\n",
       "  </tbody>\n",
       "</table>\n",
       "</div>"
      ],
      "text/plain": [
       "           title                genres  \\\n",
       "16    Ram Lakhan  Action|Drama|Musical   \n",
       "18        Tridev    Action|Crime|Drama   \n",
       "19     ChaalBaaz   Action|Comedy|Drama   \n",
       "20       Batwara          Action|Drama   \n",
       "23  Bhrashtachar    Action|Crime|Drama   \n",
       "\n",
       "                                               actors  \\\n",
       "16  Rakhee Gulzar|Jackie Shroff|Anil Kapoor|Dimple...   \n",
       "18  Naseeruddin Shah|Sunny Deol|Jackie Shroff|Madh...   \n",
       "19  Sridevi|Sunny Deol|Rajinikanth|Anupam Kher|Sha...   \n",
       "20  Dharmendra|Vinod Khanna|Dimple Kapadia|Poonam ...   \n",
       "23  Rekha|Mithun Chakraborty|Anupam Kher|Raza Mura...   \n",
       "\n",
       "                release_date  imdb_rating  \\\n",
       "16   27 January 1989 (India)          6.8   \n",
       "18       7 July 1989 (India)          6.3   \n",
       "19   8 December 1989 (India)          6.7   \n",
       "20      14 July 1989 (India)          6.5   \n",
       "23  22 November 1989 (India)          4.7   \n",
       "\n",
       "                                              summary  \\\n",
       "16  Sharda (Raakhee) vows vengeance when her husba...   \n",
       "18  A honest but disgraced Police Inspector's atte...   \n",
       "19  Twins separated at infancy are brought up diff...   \n",
       "20  In India circa after the British Rule  there i...   \n",
       "23  Bhrastachar tells the story of a disparate gro...   \n",
       "\n",
       "                                          poster_path  \\\n",
       "16  https://upload.wikimedia.org/wikipedia/en/thum...   \n",
       "18  https://upload.wikimedia.org/wikipedia/en/thum...   \n",
       "19  https://upload.wikimedia.org/wikipedia/en/thum...   \n",
       "20  https://upload.wikimedia.org/wikipedia/en/thum...   \n",
       "23  https://upload.wikimedia.org/wikipedia/en/thum...   \n",
       "\n",
       "                                     wiki_link  \n",
       "16    https://en.wikipedia.org/wiki/Ram_Lakhan  \n",
       "18        https://en.wikipedia.org/wiki/Tridev  \n",
       "19     https://en.wikipedia.org/wiki/ChaalBaaz  \n",
       "20       https://en.wikipedia.org/wiki/Batwara  \n",
       "23  https://en.wikipedia.org/wiki/Bhrashtachar  "
      ]
     },
     "execution_count": 8,
     "metadata": {},
     "output_type": "execute_result"
    }
   ],
   "source": [
    "movie_details.head(5)"
   ]
  },
  {
   "cell_type": "code",
   "execution_count": 9,
   "id": "piano-october",
   "metadata": {},
   "outputs": [],
   "source": [
    "# Saving prepared movie details.\n",
    "movie_details.to_csv('prepared_data/movie_details.csv', index=False)"
   ]
  },
  {
   "cell_type": "code",
   "execution_count": 10,
   "id": "thrown-fleece",
   "metadata": {
    "scrolled": false
   },
   "outputs": [],
   "source": [
    "# Preparing dataframe with necessary columns required to predict similar movies.\n",
    "movie_pre_info = pd.DataFrame({\n",
    "    'title': movies_data['title_x'],\n",
    "    'genres': movies_data['genres'],\n",
    "    'actors': movies_data['actors'],\n",
    "    'year_of_release': movies_data['year_of_release']\n",
    "})"
   ]
  },
  {
   "cell_type": "code",
   "execution_count": 11,
   "id": "sunrise-barrel",
   "metadata": {},
   "outputs": [],
   "source": [
    "# Dropping the records which have null values.\n",
    "movie_pre_info = movie_pre_info.dropna(axis=0, how='any')"
   ]
  },
  {
   "cell_type": "code",
   "execution_count": 12,
   "id": "incomplete-google",
   "metadata": {},
   "outputs": [],
   "source": [
    "# Lowering the case.\n",
    "movie_pre_info['genres'] = movie_pre_info['genres'].str.lower()\n",
    "movie_pre_info['actors'] = movie_pre_info['actors'].str.lower()"
   ]
  },
  {
   "cell_type": "code",
   "execution_count": 13,
   "id": "conditional-football",
   "metadata": {},
   "outputs": [
    {
     "data": {
      "text/plain": [
       "(4278, 4)"
      ]
     },
     "execution_count": 13,
     "metadata": {},
     "output_type": "execute_result"
    }
   ],
   "source": [
    "movie_pre_info.shape"
   ]
  },
  {
   "cell_type": "code",
   "execution_count": 14,
   "id": "finite-savings",
   "metadata": {},
   "outputs": [
    {
     "data": {
      "text/html": [
       "<div>\n",
       "<style scoped>\n",
       "    .dataframe tbody tr th:only-of-type {\n",
       "        vertical-align: middle;\n",
       "    }\n",
       "\n",
       "    .dataframe tbody tr th {\n",
       "        vertical-align: top;\n",
       "    }\n",
       "\n",
       "    .dataframe thead th {\n",
       "        text-align: right;\n",
       "    }\n",
       "</style>\n",
       "<table border=\"1\" class=\"dataframe\">\n",
       "  <thead>\n",
       "    <tr style=\"text-align: right;\">\n",
       "      <th></th>\n",
       "      <th>title</th>\n",
       "      <th>genres</th>\n",
       "      <th>actors</th>\n",
       "      <th>year_of_release</th>\n",
       "    </tr>\n",
       "  </thead>\n",
       "  <tbody>\n",
       "    <tr>\n",
       "      <th>0</th>\n",
       "      <td>Aag Ka Gola</td>\n",
       "      <td>action|drama</td>\n",
       "      <td>sunny deol|dimple kapadia|archana puran singh|...</td>\n",
       "      <td>1990</td>\n",
       "    </tr>\n",
       "    <tr>\n",
       "      <th>16</th>\n",
       "      <td>Ram Lakhan</td>\n",
       "      <td>action|drama|musical</td>\n",
       "      <td>rakhee gulzar|jackie shroff|anil kapoor|dimple...</td>\n",
       "      <td>1989</td>\n",
       "    </tr>\n",
       "    <tr>\n",
       "      <th>17</th>\n",
       "      <td>Asmaan Se Ooncha</td>\n",
       "      <td>action|drama|family</td>\n",
       "      <td>jeetendra|raj babbar|anita raj|govinda|sonam|s...</td>\n",
       "      <td>1989</td>\n",
       "    </tr>\n",
       "    <tr>\n",
       "      <th>18</th>\n",
       "      <td>Tridev</td>\n",
       "      <td>action|crime|drama</td>\n",
       "      <td>naseeruddin shah|sunny deol|jackie shroff|madh...</td>\n",
       "      <td>1989</td>\n",
       "    </tr>\n",
       "    <tr>\n",
       "      <th>19</th>\n",
       "      <td>ChaalBaaz</td>\n",
       "      <td>action|comedy|drama</td>\n",
       "      <td>sridevi|sunny deol|rajinikanth|anupam kher|sha...</td>\n",
       "      <td>1989</td>\n",
       "    </tr>\n",
       "  </tbody>\n",
       "</table>\n",
       "</div>"
      ],
      "text/plain": [
       "               title                genres  \\\n",
       "0        Aag Ka Gola          action|drama   \n",
       "16        Ram Lakhan  action|drama|musical   \n",
       "17  Asmaan Se Ooncha   action|drama|family   \n",
       "18            Tridev    action|crime|drama   \n",
       "19         ChaalBaaz   action|comedy|drama   \n",
       "\n",
       "                                               actors year_of_release  \n",
       "0   sunny deol|dimple kapadia|archana puran singh|...            1990  \n",
       "16  rakhee gulzar|jackie shroff|anil kapoor|dimple...            1989  \n",
       "17  jeetendra|raj babbar|anita raj|govinda|sonam|s...            1989  \n",
       "18  naseeruddin shah|sunny deol|jackie shroff|madh...            1989  \n",
       "19  sridevi|sunny deol|rajinikanth|anupam kher|sha...            1989  "
      ]
     },
     "execution_count": 14,
     "metadata": {},
     "output_type": "execute_result"
    }
   ],
   "source": [
    "movie_pre_info.head(5)"
   ]
  },
  {
   "cell_type": "code",
   "execution_count": 15,
   "id": "dressed-amazon",
   "metadata": {},
   "outputs": [],
   "source": [
    "# Saving prepared data.\n",
    "movie_pre_info.to_csv('prepared_data/movie_pre_info.csv', index=False)"
   ]
  },
  {
   "cell_type": "code",
   "execution_count": null,
   "id": "fallen-worse",
   "metadata": {},
   "outputs": [],
   "source": []
  }
 ],
 "metadata": {
  "kernelspec": {
   "display_name": "Python 3",
   "language": "python",
   "name": "python3"
  },
  "language_info": {
   "codemirror_mode": {
    "name": "ipython",
    "version": 3
   },
   "file_extension": ".py",
   "mimetype": "text/x-python",
   "name": "python",
   "nbconvert_exporter": "python",
   "pygments_lexer": "ipython3",
   "version": "3.9.0"
  }
 },
 "nbformat": 4,
 "nbformat_minor": 5
}
